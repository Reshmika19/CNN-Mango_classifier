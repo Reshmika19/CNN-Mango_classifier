{
  "cells": [
    {
      "cell_type": "markdown",
      "metadata": {
        "id": "view-in-github",
        "colab_type": "text"
      },
      "source": [
        "<a href=\"https://colab.research.google.com/github/Reshmika19/CNN-Mango_classifier/blob/main/mango_classifier.ipynb\" target=\"_parent\"><img src=\"https://colab.research.google.com/assets/colab-badge.svg\" alt=\"Open In Colab\"/></a>"
      ]
    },
    {
      "cell_type": "markdown",
      "metadata": {
        "id": "3DR-eO17geWu"
      },
      "source": [
        "# Convolutional Neural Network"
      ]
    },
    {
      "cell_type": "markdown",
      "metadata": {
        "id": "EMefrVPCg-60"
      },
      "source": [
        "### Importing the libraries"
      ]
    },
    {
      "cell_type": "code",
      "execution_count": 4,
      "metadata": {
        "id": "sCV30xyVhFbE"
      },
      "outputs": [],
      "source": [
        "import tensorflow as tf\n",
        "from keras.preprocessing.image import ImageDataGenerator"
      ]
    },
    {
      "cell_type": "code",
      "execution_count": 5,
      "metadata": {
        "colab": {
          "base_uri": "https://localhost:8080/",
          "height": 36
        },
        "id": "FIleuCAjoFD8",
        "outputId": "82f35a27-bb57-4799-dc70-a31c33c6dd84"
      },
      "outputs": [
        {
          "output_type": "execute_result",
          "data": {
            "text/plain": [
              "'2.12.0'"
            ],
            "application/vnd.google.colaboratory.intrinsic+json": {
              "type": "string"
            }
          },
          "metadata": {},
          "execution_count": 5
        }
      ],
      "source": [
        "tf.__version__"
      ]
    },
    {
      "cell_type": "code",
      "execution_count": 6,
      "metadata": {
        "colab": {
          "base_uri": "https://localhost:8080/"
        },
        "id": "7VGczKYEBSx0",
        "outputId": "d140ba2d-c32a-48bf-a81c-ea10e428dc0e"
      },
      "outputs": [
        {
          "output_type": "stream",
          "name": "stdout",
          "text": [
            "Drive already mounted at /content/drive; to attempt to forcibly remount, call drive.mount(\"/content/drive\", force_remount=True).\n"
          ]
        }
      ],
      "source": [
        "from google.colab import drive\n",
        "drive.mount('/content/drive')"
      ]
    },
    {
      "cell_type": "markdown",
      "metadata": {
        "id": "oxQxCBWyoGPE"
      },
      "source": [
        "## Part 1 - Data Preprocessing"
      ]
    },
    {
      "cell_type": "markdown",
      "metadata": {
        "id": "MvE-heJNo3GG"
      },
      "source": [
        "### Preprocessing the Training set"
      ]
    },
    {
      "cell_type": "code",
      "execution_count": 7,
      "metadata": {
        "id": "0koUcJMJpEBD",
        "colab": {
          "base_uri": "https://localhost:8080/"
        },
        "outputId": "1997b430-e5be-42c1-d9b0-6ad8ebebd6a8"
      },
      "outputs": [
        {
          "output_type": "stream",
          "name": "stdout",
          "text": [
            "Found 1492 images belonging to 2 classes.\n"
          ]
        }
      ],
      "source": [
        "train_datagen = ImageDataGenerator(rescale = 1./255,\n",
        "                                   shear_range = 0.2,\n",
        "                                   zoom_range = 0.2,\n",
        "                                   horizontal_flip = True)\n",
        "training_set = train_datagen.flow_from_directory('/content/drive/MyDrive/Mango Classifier/Dataset/train_data',\n",
        "                                                 target_size = (64, 64),\n",
        "                                                 batch_size = 32,\n",
        "                                                 class_mode = 'binary')"
      ]
    },
    {
      "cell_type": "code",
      "execution_count": null,
      "metadata": {
        "colab": {
          "base_uri": "https://localhost:8080/"
        },
        "id": "cAedbr47BNfd",
        "outputId": "58540e98-26df-410c-ca37-901ffcaf1b37"
      },
      "outputs": [
        {
          "output_type": "execute_result",
          "data": {
            "text/plain": [
              "{'mango': 0, 'non-mango': 1}"
            ]
          },
          "metadata": {},
          "execution_count": 5
        }
      ],
      "source": [
        "training_set.class_indices"
      ]
    },
    {
      "cell_type": "markdown",
      "metadata": {
        "id": "mrCMmGw9pHys"
      },
      "source": [
        "### Preprocessing the Test set"
      ]
    },
    {
      "cell_type": "code",
      "execution_count": 8,
      "metadata": {
        "colab": {
          "base_uri": "https://localhost:8080/"
        },
        "id": "SH4WzfOhpKc3",
        "outputId": "72107713-9a32-4786-d3e5-2707c0746967"
      },
      "outputs": [
        {
          "output_type": "stream",
          "name": "stdout",
          "text": [
            "Found 394 images belonging to 2 classes.\n"
          ]
        }
      ],
      "source": [
        "test_datagen = ImageDataGenerator(rescale = 1./255)\n",
        "testing_set = test_datagen.flow_from_directory('/content/drive/MyDrive/Mango Classifier/Dataset/test_data',\n",
        "                                            target_size = (64, 64),\n",
        "                                            batch_size = 32,\n",
        "                                            class_mode = 'binary')"
      ]
    },
    {
      "cell_type": "markdown",
      "metadata": {
        "id": "af8O4l90gk7B"
      },
      "source": [
        "## Part 2 - Building the CNN"
      ]
    },
    {
      "cell_type": "markdown",
      "metadata": {
        "id": "ces1gXY2lmoX"
      },
      "source": [
        "### Initialising the CNN"
      ]
    },
    {
      "cell_type": "code",
      "execution_count": 9,
      "metadata": {
        "id": "SAUt4UMPlhLS"
      },
      "outputs": [],
      "source": [
        "cnn = tf.keras.models.Sequential()"
      ]
    },
    {
      "cell_type": "markdown",
      "metadata": {
        "id": "u5YJj_XMl5LF"
      },
      "source": [
        "### Step 1 - Convolution"
      ]
    },
    {
      "cell_type": "code",
      "execution_count": 10,
      "metadata": {
        "id": "XPzPrMckl-hV"
      },
      "outputs": [],
      "source": [
        "cnn.add(tf.keras.layers.Conv2D(filters=32, kernel_size=3, activation='relu', input_shape=[64, 64, 3]))"
      ]
    },
    {
      "cell_type": "markdown",
      "metadata": {
        "id": "tf87FpvxmNOJ"
      },
      "source": [
        "### Step 2 - Pooling"
      ]
    },
    {
      "cell_type": "code",
      "execution_count": 11,
      "metadata": {
        "id": "ncpqPl69mOac"
      },
      "outputs": [],
      "source": [
        "cnn.add(tf.keras.layers.MaxPool2D(pool_size=2, strides=2))"
      ]
    },
    {
      "cell_type": "markdown",
      "metadata": {
        "id": "xaTOgD8rm4mU"
      },
      "source": [
        "### Adding a second convolutional layer"
      ]
    },
    {
      "cell_type": "code",
      "execution_count": 12,
      "metadata": {
        "id": "i_-FZjn_m8gk"
      },
      "outputs": [],
      "source": [
        "cnn.add(tf.keras.layers.Conv2D(filters=32, kernel_size=3, activation='relu'))\n",
        "cnn.add(tf.keras.layers.MaxPool2D(pool_size=2, strides=2))"
      ]
    },
    {
      "cell_type": "markdown",
      "metadata": {
        "id": "pV48gDR-BNfj"
      },
      "source": [
        "# Adding a third convolutional layer"
      ]
    },
    {
      "cell_type": "code",
      "execution_count": 13,
      "metadata": {
        "id": "9qbU-C9jBNfk"
      },
      "outputs": [],
      "source": [
        "cnn.add(tf.keras.layers.Conv2D(filters=32, kernel_size=3, activation='relu'))\n",
        "cnn.add(tf.keras.layers.MaxPool2D(pool_size=2, strides=2))"
      ]
    },
    {
      "cell_type": "markdown",
      "metadata": {
        "id": "tmiEuvTunKfk"
      },
      "source": [
        "### Step 3 - Flattening"
      ]
    },
    {
      "cell_type": "code",
      "execution_count": 14,
      "metadata": {
        "id": "6AZeOGCvnNZn"
      },
      "outputs": [],
      "source": [
        "cnn.add(tf.keras.layers.Flatten())"
      ]
    },
    {
      "cell_type": "markdown",
      "metadata": {
        "id": "dAoSECOm203v"
      },
      "source": [
        "### Step 4 - Full Connection"
      ]
    },
    {
      "cell_type": "markdown",
      "metadata": {
        "id": "pYiYkJsWBNfl"
      },
      "source": [
        "# 1st dense layer"
      ]
    },
    {
      "cell_type": "code",
      "execution_count": 15,
      "metadata": {
        "id": "8GtmUlLd26Nq"
      },
      "outputs": [],
      "source": [
        "cnn.add(tf.keras.layers.Dense(units=128, activation='relu'))"
      ]
    },
    {
      "cell_type": "markdown",
      "metadata": {
        "id": "TSRNWQ5EBNfm"
      },
      "source": [
        "# 2nd dense layer"
      ]
    },
    {
      "cell_type": "code",
      "execution_count": 16,
      "metadata": {
        "id": "Y3fXuTeHBNfm"
      },
      "outputs": [],
      "source": [
        "cnn.add(tf.keras.layers.Dense(units=64, activation='relu'))"
      ]
    },
    {
      "cell_type": "markdown",
      "metadata": {
        "id": "yTldFvbX28Na"
      },
      "source": [
        "### Step 5 - Output Layer"
      ]
    },
    {
      "cell_type": "code",
      "execution_count": null,
      "metadata": {
        "id": "1p_Zj1Mc3Ko_"
      },
      "outputs": [],
      "source": [
        "cnn.add(tf.keras.layers.Dense(units=1, activation='sigmoid'))"
      ]
    },
    {
      "cell_type": "markdown",
      "metadata": {
        "id": "D6XkI90snSDl"
      },
      "source": [
        "## Part 3 - Training the CNN"
      ]
    },
    {
      "cell_type": "markdown",
      "metadata": {
        "id": "vfrFQACEnc6i"
      },
      "source": [
        "### Compiling the CNN"
      ]
    },
    {
      "cell_type": "code",
      "execution_count": null,
      "metadata": {
        "id": "NALksrNQpUlJ"
      },
      "outputs": [],
      "source": [
        "cnn.compile(optimizer = 'adam', loss = 'binary_crossentropy', metrics = ['accuracy'])"
      ]
    },
    {
      "cell_type": "markdown",
      "metadata": {
        "id": "ehS-v3MIpX2h"
      },
      "source": [
        "### Training the CNN on the Training set and evaluating it on the Test set"
      ]
    },
    {
      "cell_type": "code",
      "execution_count": null,
      "metadata": {
        "colab": {
          "base_uri": "https://localhost:8080/"
        },
        "id": "XUj1W4PJptta",
        "outputId": "cbec64ac-e459-44c3-ff56-2953cf163dac"
      },
      "outputs": [
        {
          "output_type": "stream",
          "name": "stdout",
          "text": [
            "Epoch 1/50\n",
            " 1/47 [..............................] - ETA: 17:40 - loss: 0.6946 - accuracy: 0.5000"
          ]
        },
        {
          "output_type": "stream",
          "name": "stderr",
          "text": [
            "/usr/local/lib/python3.10/dist-packages/PIL/Image.py:975: UserWarning: Palette images with Transparency expressed in bytes should be converted to RGBA images\n",
            "  warnings.warn(\n"
          ]
        },
        {
          "output_type": "stream",
          "name": "stdout",
          "text": [
            "47/47 [==============================] - 568s 12s/step - loss: 0.6083 - accuracy: 0.6749 - val_loss: 0.5499 - val_accuracy: 0.7157\n",
            "Epoch 2/50\n",
            "47/47 [==============================] - 55s 1s/step - loss: 0.5254 - accuracy: 0.7560 - val_loss: 0.5103 - val_accuracy: 0.7360\n",
            "Epoch 3/50\n",
            "47/47 [==============================] - 55s 1s/step - loss: 0.5189 - accuracy: 0.7580 - val_loss: 0.5841 - val_accuracy: 0.6929\n",
            "Epoch 4/50\n",
            "47/47 [==============================] - 55s 1s/step - loss: 0.4838 - accuracy: 0.7694 - val_loss: 0.4675 - val_accuracy: 0.7843\n",
            "Epoch 5/50\n",
            "47/47 [==============================] - 55s 1s/step - loss: 0.4901 - accuracy: 0.7721 - val_loss: 0.5313 - val_accuracy: 0.7259\n",
            "Epoch 6/50\n",
            "47/47 [==============================] - 55s 1s/step - loss: 0.4682 - accuracy: 0.7828 - val_loss: 0.4627 - val_accuracy: 0.7716\n",
            "Epoch 7/50\n",
            "47/47 [==============================] - 56s 1s/step - loss: 0.4643 - accuracy: 0.7916 - val_loss: 0.4402 - val_accuracy: 0.7868\n",
            "Epoch 8/50\n",
            "47/47 [==============================] - 55s 1s/step - loss: 0.4420 - accuracy: 0.8029 - val_loss: 0.4501 - val_accuracy: 0.7843\n",
            "Epoch 9/50\n",
            "47/47 [==============================] - 56s 1s/step - loss: 0.4261 - accuracy: 0.8083 - val_loss: 0.3981 - val_accuracy: 0.8096\n",
            "Epoch 10/50\n",
            "47/47 [==============================] - 55s 1s/step - loss: 0.4119 - accuracy: 0.8237 - val_loss: 0.3939 - val_accuracy: 0.8198\n",
            "Epoch 11/50\n",
            "47/47 [==============================] - 54s 1s/step - loss: 0.4097 - accuracy: 0.8164 - val_loss: 0.4320 - val_accuracy: 0.7640\n",
            "Epoch 12/50\n",
            "47/47 [==============================] - 55s 1s/step - loss: 0.3946 - accuracy: 0.8217 - val_loss: 0.4666 - val_accuracy: 0.7741\n",
            "Epoch 13/50\n",
            "47/47 [==============================] - 55s 1s/step - loss: 0.3742 - accuracy: 0.8398 - val_loss: 0.3335 - val_accuracy: 0.8706\n",
            "Epoch 14/50\n",
            "47/47 [==============================] - 55s 1s/step - loss: 0.3957 - accuracy: 0.8244 - val_loss: 0.3546 - val_accuracy: 0.8299\n",
            "Epoch 15/50\n",
            "47/47 [==============================] - 55s 1s/step - loss: 0.3567 - accuracy: 0.8445 - val_loss: 0.3134 - val_accuracy: 0.8579\n",
            "Epoch 16/50\n",
            "47/47 [==============================] - 55s 1s/step - loss: 0.3517 - accuracy: 0.8351 - val_loss: 0.3191 - val_accuracy: 0.8579\n",
            "Epoch 17/50\n",
            "47/47 [==============================] - 55s 1s/step - loss: 0.3592 - accuracy: 0.8365 - val_loss: 0.4001 - val_accuracy: 0.7995\n",
            "Epoch 18/50\n",
            "47/47 [==============================] - 55s 1s/step - loss: 0.3253 - accuracy: 0.8525 - val_loss: 0.2968 - val_accuracy: 0.8706\n",
            "Epoch 19/50\n",
            "47/47 [==============================] - 56s 1s/step - loss: 0.3199 - accuracy: 0.8479 - val_loss: 0.2943 - val_accuracy: 0.8756\n",
            "Epoch 20/50\n",
            "47/47 [==============================] - 55s 1s/step - loss: 0.2957 - accuracy: 0.8686 - val_loss: 0.3444 - val_accuracy: 0.8325\n",
            "Epoch 21/50\n",
            "47/47 [==============================] - 55s 1s/step - loss: 0.2878 - accuracy: 0.8693 - val_loss: 0.3018 - val_accuracy: 0.8680\n",
            "Epoch 22/50\n",
            "47/47 [==============================] - 55s 1s/step - loss: 0.2734 - accuracy: 0.8740 - val_loss: 0.2452 - val_accuracy: 0.9036\n",
            "Epoch 23/50\n",
            "47/47 [==============================] - 55s 1s/step - loss: 0.2700 - accuracy: 0.8854 - val_loss: 0.2262 - val_accuracy: 0.9112\n",
            "Epoch 24/50\n",
            "47/47 [==============================] - 56s 1s/step - loss: 0.2614 - accuracy: 0.8861 - val_loss: 0.2158 - val_accuracy: 0.9137\n",
            "Epoch 25/50\n",
            "47/47 [==============================] - 55s 1s/step - loss: 0.2430 - accuracy: 0.8948 - val_loss: 0.2074 - val_accuracy: 0.9188\n",
            "Epoch 26/50\n",
            "47/47 [==============================] - 55s 1s/step - loss: 0.2314 - accuracy: 0.9042 - val_loss: 0.2220 - val_accuracy: 0.9213\n",
            "Epoch 27/50\n",
            "47/47 [==============================] - 55s 1s/step - loss: 0.2345 - accuracy: 0.9042 - val_loss: 0.1964 - val_accuracy: 0.9264\n",
            "Epoch 28/50\n",
            "47/47 [==============================] - 55s 1s/step - loss: 0.2607 - accuracy: 0.8861 - val_loss: 0.1938 - val_accuracy: 0.9264\n",
            "Epoch 29/50\n",
            "47/47 [==============================] - 55s 1s/step - loss: 0.2080 - accuracy: 0.9082 - val_loss: 0.1752 - val_accuracy: 0.9289\n",
            "Epoch 30/50\n",
            "47/47 [==============================] - 55s 1s/step - loss: 0.1987 - accuracy: 0.9223 - val_loss: 0.1484 - val_accuracy: 0.9365\n",
            "Epoch 31/50\n",
            "47/47 [==============================] - 55s 1s/step - loss: 0.1890 - accuracy: 0.9269 - val_loss: 0.1506 - val_accuracy: 0.9492\n",
            "Epoch 32/50\n",
            "47/47 [==============================] - 55s 1s/step - loss: 0.1795 - accuracy: 0.9162 - val_loss: 0.1986 - val_accuracy: 0.9086\n",
            "Epoch 33/50\n",
            "47/47 [==============================] - 55s 1s/step - loss: 0.2122 - accuracy: 0.9149 - val_loss: 0.1399 - val_accuracy: 0.9492\n",
            "Epoch 34/50\n",
            "47/47 [==============================] - 55s 1s/step - loss: 0.1702 - accuracy: 0.9276 - val_loss: 0.1273 - val_accuracy: 0.9594\n",
            "Epoch 35/50\n",
            "47/47 [==============================] - 55s 1s/step - loss: 0.1636 - accuracy: 0.9357 - val_loss: 0.1556 - val_accuracy: 0.9467\n",
            "Epoch 36/50\n",
            "47/47 [==============================] - 55s 1s/step - loss: 0.1570 - accuracy: 0.9390 - val_loss: 0.2129 - val_accuracy: 0.9036\n",
            "Epoch 37/50\n",
            "47/47 [==============================] - 55s 1s/step - loss: 0.1590 - accuracy: 0.9417 - val_loss: 0.1150 - val_accuracy: 0.9619\n",
            "Epoch 38/50\n",
            "47/47 [==============================] - 54s 1s/step - loss: 0.1358 - accuracy: 0.9471 - val_loss: 0.1410 - val_accuracy: 0.9467\n",
            "Epoch 39/50\n",
            "47/47 [==============================] - 55s 1s/step - loss: 0.1416 - accuracy: 0.9437 - val_loss: 0.1201 - val_accuracy: 0.9442\n",
            "Epoch 40/50\n",
            "47/47 [==============================] - 55s 1s/step - loss: 0.1533 - accuracy: 0.9383 - val_loss: 0.1189 - val_accuracy: 0.9619\n",
            "Epoch 41/50\n",
            "47/47 [==============================] - 55s 1s/step - loss: 0.1432 - accuracy: 0.9444 - val_loss: 0.1602 - val_accuracy: 0.9264\n",
            "Epoch 42/50\n",
            "47/47 [==============================] - 55s 1s/step - loss: 0.1454 - accuracy: 0.9430 - val_loss: 0.1264 - val_accuracy: 0.9492\n",
            "Epoch 43/50\n",
            "47/47 [==============================] - 55s 1s/step - loss: 0.1226 - accuracy: 0.9544 - val_loss: 0.1015 - val_accuracy: 0.9518\n",
            "Epoch 44/50\n",
            "47/47 [==============================] - 54s 1s/step - loss: 0.1227 - accuracy: 0.9591 - val_loss: 0.1324 - val_accuracy: 0.9492\n",
            "Epoch 45/50\n",
            "47/47 [==============================] - 55s 1s/step - loss: 0.1253 - accuracy: 0.9517 - val_loss: 0.1255 - val_accuracy: 0.9315\n",
            "Epoch 46/50\n",
            "47/47 [==============================] - 54s 1s/step - loss: 0.1129 - accuracy: 0.9551 - val_loss: 0.0855 - val_accuracy: 0.9695\n",
            "Epoch 47/50\n",
            "47/47 [==============================] - 55s 1s/step - loss: 0.1192 - accuracy: 0.9504 - val_loss: 0.1196 - val_accuracy: 0.9391\n",
            "Epoch 48/50\n",
            "47/47 [==============================] - 55s 1s/step - loss: 0.1002 - accuracy: 0.9571 - val_loss: 0.0659 - val_accuracy: 0.9772\n",
            "Epoch 49/50\n",
            "47/47 [==============================] - 55s 1s/step - loss: 0.0948 - accuracy: 0.9678 - val_loss: 0.0652 - val_accuracy: 0.9797\n",
            "Epoch 50/50\n",
            "47/47 [==============================] - 55s 1s/step - loss: 0.0945 - accuracy: 0.9645 - val_loss: 0.0897 - val_accuracy: 0.9619\n"
          ]
        },
        {
          "output_type": "execute_result",
          "data": {
            "text/plain": [
              "<keras.callbacks.History at 0x7c5865b090c0>"
            ]
          },
          "metadata": {},
          "execution_count": 16
        }
      ],
      "source": [
        "cnn.fit(x = training_set, validation_data = testing_set, epochs = 50)"
      ]
    },
    {
      "cell_type": "markdown",
      "metadata": {
        "id": "U3PZasO0006Z"
      },
      "source": [
        "## Part 4 - Making a single prediction"
      ]
    },
    {
      "cell_type": "code",
      "execution_count": 30,
      "metadata": {
        "id": "gsSiWEJY1BPB",
        "colab": {
          "base_uri": "https://localhost:8080/"
        },
        "outputId": "8d8887b9-ea6f-4079-878c-c13d6465efb5"
      },
      "outputs": [
        {
          "output_type": "stream",
          "name": "stdout",
          "text": [
            "1/1 [==============================] - 0s 20ms/step\n"
          ]
        }
      ],
      "source": [
        "import numpy as np\n",
        "from tensorflow.keras.preprocessing import image\n",
        "test_image = image.load_img('/content/drive/MyDrive/Mango Classifier/Dataset/single_prediction/6.jpeg', target_size = (64, 64))\n",
        "test_image = image.img_to_array(test_image)\n",
        "test_image = test_image / 255.0\n",
        "test_image = np.expand_dims(test_image, axis = 0)\n",
        "result = cnn.predict(test_image)\n",
        "training_set.class_indices\n",
        "if result[0][0] <= 0.5:\n",
        "  prediction = 'Mango'\n",
        "else:\n",
        "  prediction = 'Not a Mango'"
      ]
    },
    {
      "cell_type": "code",
      "execution_count": 31,
      "metadata": {
        "id": "ED9KB3I54c1i",
        "outputId": "2c085a9d-a5c0-4dac-d36a-2a4141fc2eb4",
        "colab": {
          "base_uri": "https://localhost:8080/"
        }
      },
      "outputs": [
        {
          "output_type": "stream",
          "name": "stdout",
          "text": [
            "Mango\n"
          ]
        }
      ],
      "source": [
        "print(prediction)"
      ]
    },
    {
      "cell_type": "code",
      "execution_count": null,
      "metadata": {
        "id": "WvT1eldbBNfp"
      },
      "outputs": [],
      "source": []
    },
    {
      "cell_type": "markdown",
      "metadata": {
        "id": "fqe4PG96BNfp"
      },
      "source": [
        "# saving the model"
      ]
    },
    {
      "cell_type": "code",
      "execution_count": 17,
      "metadata": {
        "colab": {
          "base_uri": "https://localhost:8080/"
        },
        "id": "hUsMpNmBBNfq",
        "outputId": "72153bc5-fa4c-4fa9-faa9-133b5c07b05c"
      },
      "outputs": [
        {
          "output_type": "stream",
          "name": "stderr",
          "text": [
            "WARNING:tensorflow:Compiled the loaded model, but the compiled metrics have yet to be built. `model.compile_metrics` will be empty until you train or evaluate the model.\n",
            "WARNING:absl:Found untraced functions such as _jit_compiled_convolution_op, _jit_compiled_convolution_op, _jit_compiled_convolution_op while saving (showing 3 of 3). These functions will not be directly callable after loading.\n"
          ]
        },
        {
          "output_type": "stream",
          "name": "stdout",
          "text": [
            "Saved model to disk\n"
          ]
        }
      ],
      "source": [
        "cnn.save(\"/content/drive/MyDrive/human image classifier/trained model/cnn.mango_or_not\")\n",
        "print(\"Saved model to disk\")"
      ]
    },
    {
      "cell_type": "markdown",
      "metadata": {
        "id": "lrTvL4O_BNfq"
      },
      "source": [
        "# loading the model"
      ]
    },
    {
      "cell_type": "code",
      "execution_count": 18,
      "metadata": {
        "colab": {
          "base_uri": "https://localhost:8080/"
        },
        "id": "h6C6-DoHBNfq",
        "outputId": "87c28c7a-9aaa-4b43-f4b6-0e94981bdbc0"
      },
      "outputs": [
        {
          "output_type": "stream",
          "name": "stdout",
          "text": [
            "Model: \"sequential\"\n",
            "_________________________________________________________________\n",
            " Layer (type)                Output Shape              Param #   \n",
            "=================================================================\n",
            " conv2d (Conv2D)             (None, 62, 62, 32)        896       \n",
            "                                                                 \n",
            " max_pooling2d (MaxPooling2D  (None, 31, 31, 32)       0         \n",
            " )                                                               \n",
            "                                                                 \n",
            " conv2d_1 (Conv2D)           (None, 29, 29, 32)        9248      \n",
            "                                                                 \n",
            " max_pooling2d_1 (MaxPooling  (None, 14, 14, 32)       0         \n",
            " 2D)                                                             \n",
            "                                                                 \n",
            " conv2d_2 (Conv2D)           (None, 12, 12, 32)        9248      \n",
            "                                                                 \n",
            " max_pooling2d_2 (MaxPooling  (None, 6, 6, 32)         0         \n",
            " 2D)                                                             \n",
            "                                                                 \n",
            " flatten (Flatten)           (None, 1152)              0         \n",
            "                                                                 \n",
            " dense (Dense)               (None, 128)               147584    \n",
            "                                                                 \n",
            " dense_1 (Dense)             (None, 64)                8256      \n",
            "                                                                 \n",
            " dense_2 (Dense)             (None, 1)                 65        \n",
            "                                                                 \n",
            "=================================================================\n",
            "Total params: 175,297\n",
            "Trainable params: 175,297\n",
            "Non-trainable params: 0\n",
            "_________________________________________________________________\n"
          ]
        }
      ],
      "source": [
        "from numpy import loadtxt\n",
        "from keras.models import load_model\n",
        "\n",
        "\n",
        "# load model\n",
        "cnn = load_model('/content/drive/MyDrive/Mango Classifier/cnn.mango_or_not')\n",
        "# summarize model.\n",
        "cnn.summary()\n",
        "\n",
        "# split into input and output variables\n",
        "\n",
        "# evaluate the model\n"
      ]
    },
    {
      "cell_type": "code",
      "execution_count": 19,
      "metadata": {
        "id": "Gnn2T3CbBNfr"
      },
      "outputs": [],
      "source": [
        "import tensorflow as tf\n",
        "from keras.preprocessing.image import ImageDataGenerator"
      ]
    },
    {
      "cell_type": "code",
      "execution_count": 20,
      "metadata": {
        "colab": {
          "base_uri": "https://localhost:8080/"
        },
        "id": "XEbgS5aSBNfr",
        "outputId": "92f82a85-d0fe-4ca2-9cf4-a200147618a0"
      },
      "outputs": [
        {
          "output_type": "stream",
          "name": "stdout",
          "text": [
            "Found 1492 images belonging to 2 classes.\n"
          ]
        }
      ],
      "source": [
        "train_datagen = ImageDataGenerator(rescale = 1./255,\n",
        "                                   shear_range = 0.2,\n",
        "                                   zoom_range = 0.2,\n",
        "                                   horizontal_flip = True)\n",
        "training_set = train_datagen.flow_from_directory('/content/drive/MyDrive/Mango Classifier/Dataset/train_data',\n",
        "                                                 target_size = (64, 64),\n",
        "                                                 batch_size = 32,\n",
        "                                                 class_mode = 'binary')"
      ]
    },
    {
      "cell_type": "code",
      "execution_count": 21,
      "metadata": {
        "colab": {
          "base_uri": "https://localhost:8080/"
        },
        "id": "yGYavN8VBNfs",
        "outputId": "28f5b515-0e60-4b2d-b350-dc78ad236d79"
      },
      "outputs": [
        {
          "output_type": "stream",
          "name": "stdout",
          "text": [
            "Found 394 images belonging to 2 classes.\n"
          ]
        }
      ],
      "source": [
        "test_datagen = ImageDataGenerator(rescale = 1./255)\n",
        "testing_set = test_datagen.flow_from_directory('/content/drive/MyDrive/Mango Classifier/Dataset/test_data',\n",
        "                                            target_size = (64, 64),\n",
        "                                            batch_size = 32,\n",
        "                                            class_mode = 'binary')"
      ]
    },
    {
      "cell_type": "code",
      "execution_count": 22,
      "metadata": {
        "id": "7a1TEsJzBNfs"
      },
      "outputs": [],
      "source": [
        "import numpy as np\n",
        "from tensorflow.keras.preprocessing import image\n",
        "\n",
        "\n"
      ]
    },
    {
      "cell_type": "code",
      "execution_count": 42,
      "metadata": {
        "id": "-MaRjhx9BNfs",
        "colab": {
          "base_uri": "https://localhost:8080/"
        },
        "outputId": "1c4630ac-8ba5-4826-8cd0-61df74fdbceb"
      },
      "outputs": [
        {
          "output_type": "stream",
          "name": "stdout",
          "text": [
            "1/1 [==============================] - 0s 20ms/step\n"
          ]
        }
      ],
      "source": [
        "test_image = image.load_img('/content/drive/MyDrive/Mango Classifier/Dataset/img1.jpg', target_size = (64, 64))\n",
        "test_image = image.img_to_array(test_image)\n",
        "test_image = np.expand_dims(test_image, axis = 0)\n",
        "result = cnn.predict(test_image/255.0)\n",
        "training_set.class_indices\n",
        "if result[0][0] <= 0.7:\n",
        "  prediction = 'Mango'\n",
        "else:\n",
        "  prediction = 'Not a Mango'"
      ]
    },
    {
      "cell_type": "code",
      "execution_count": 43,
      "metadata": {
        "colab": {
          "base_uri": "https://localhost:8080/"
        },
        "id": "elUOAMSfBNft",
        "outputId": "35bd46d2-0482-4ea1-a188-1d85b9079fcd"
      },
      "outputs": [
        {
          "output_type": "stream",
          "name": "stdout",
          "text": [
            "Not a Mango\n"
          ]
        }
      ],
      "source": [
        "print(prediction)"
      ]
    },
    {
      "cell_type": "code",
      "execution_count": null,
      "metadata": {
        "id": "zzxxZOKlBNfu"
      },
      "outputs": [],
      "source": [
        "import shutil, os\n",
        "#files = ['file1.txt', 'file2.txt', 'file3.txt']\n",
        "#for f in files:\n",
        "    #shutil.move(f, 'dest_folder')"
      ]
    },
    {
      "cell_type": "code",
      "execution_count": null,
      "metadata": {
        "colab": {
          "base_uri": "https://localhost:8080/",
          "height": 252
        },
        "id": "1hqh8qEMBNfu",
        "outputId": "9fd708cb-477c-4b7e-85f1-d865b310183f"
      },
      "outputs": [
        {
          "output_type": "stream",
          "name": "stdout",
          "text": [
            "1/1 [==============================] - 0s 20ms/step\n"
          ]
        },
        {
          "output_type": "error",
          "ename": "NameError",
          "evalue": "ignored",
          "traceback": [
            "\u001b[0;31m---------------------------------------------------------------------------\u001b[0m",
            "\u001b[0;31mNameError\u001b[0m                                 Traceback (most recent call last)",
            "\u001b[0;32m<ipython-input-31-4c818db2814d>\u001b[0m in \u001b[0;36m<cell line: 4>\u001b[0;34m()\u001b[0m\n\u001b[1;32m     12\u001b[0m       \u001b[0;32mif\u001b[0m \u001b[0mresult\u001b[0m\u001b[0;34m[\u001b[0m\u001b[0;36m0\u001b[0m\u001b[0;34m]\u001b[0m\u001b[0;34m[\u001b[0m\u001b[0;36m0\u001b[0m\u001b[0;34m]\u001b[0m \u001b[0;34m<=\u001b[0m \u001b[0;36m0.7\u001b[0m\u001b[0;34m:\u001b[0m\u001b[0;34m\u001b[0m\u001b[0;34m\u001b[0m\u001b[0m\n\u001b[1;32m     13\u001b[0m           \u001b[0mprediction\u001b[0m \u001b[0;34m=\u001b[0m \u001b[0;34m'Not a Mango'\u001b[0m\u001b[0;34m\u001b[0m\u001b[0;34m\u001b[0m\u001b[0m\n\u001b[0;32m---> 14\u001b[0;31m           \u001b[0mshutil\u001b[0m\u001b[0;34m.\u001b[0m\u001b[0mmove\u001b[0m\u001b[0;34m(\u001b[0m\u001b[0mpath\u001b[0m\u001b[0;34m,\u001b[0m\u001b[0;34mr\"C:\\Users\\RESHM\\OneDrive\\Desktop\\mangoclassifier\\nonmango\"\u001b[0m\u001b[0;34m)\u001b[0m\u001b[0;34m\u001b[0m\u001b[0;34m\u001b[0m\u001b[0m\n\u001b[0m\u001b[1;32m     15\u001b[0m \u001b[0;34m\u001b[0m\u001b[0m\n\u001b[1;32m     16\u001b[0m       \u001b[0;32melse\u001b[0m\u001b[0;34m:\u001b[0m\u001b[0;34m\u001b[0m\u001b[0;34m\u001b[0m\u001b[0m\n",
            "\u001b[0;31mNameError\u001b[0m: name 'shutil' is not defined"
          ]
        }
      ],
      "source": [
        "import os\n",
        "directory = '/content/drive/MyDrive/Mango Classifier/trained_model/dataset/people'\n",
        "indian = 0\n",
        "for filename in os.listdir(directory):\n",
        "    if filename.endswith(\".jpg\"):\n",
        "      path = os.path.join(directory, filename)\n",
        "      test_image = image.load_img(path, target_size = (64, 64))\n",
        "      test_image = image.img_to_array(test_image)\n",
        "      test_image = np.expand_dims(test_image, axis = 0)\n",
        "      result = cnn.predict(test_image/255.0)\n",
        "      #training_set.class_indices\n",
        "      if result[0][0] <= 0.7:\n",
        "          prediction = 'Not a Mango'\n",
        "          shutil.move(path,r\"C:\\Users\\RESHM\\OneDrive\\Desktop\\mangoclassifier\\nonmango\")\n",
        "\n",
        "      else:\n",
        "          prediction = 'Mango'\n",
        "          shutil.move(path,r\"C:\\Users\\RESHM\\OneDrive\\Desktop\\mangoclassifier\\mango\")\n",
        "          indian += 1\n",
        "          if indian < 1000:\n",
        "            break\n",
        "\n",
        "    else:\n",
        "      continue\n",
        "    print(prediction)"
      ]
    },
    {
      "cell_type": "code",
      "execution_count": null,
      "metadata": {
        "id": "TjlfBx15BNfu"
      },
      "outputs": [],
      "source": []
    },
    {
      "cell_type": "code",
      "execution_count": null,
      "metadata": {
        "id": "6nBZgxQjBNfv"
      },
      "outputs": [],
      "source": []
    }
  ],
  "metadata": {
    "accelerator": "GPU",
    "colab": {
      "provenance": [],
      "include_colab_link": true
    },
    "kernelspec": {
      "display_name": "Python 3",
      "language": "python",
      "name": "python3"
    },
    "language_info": {
      "codemirror_mode": {
        "name": "ipython",
        "version": 3
      },
      "file_extension": ".py",
      "mimetype": "text/x-python",
      "name": "python",
      "nbconvert_exporter": "python",
      "pygments_lexer": "ipython3",
      "version": "3.8.8"
    }
  },
  "nbformat": 4,
  "nbformat_minor": 0
}